{
 "cells": [
  {
   "cell_type": "markdown",
   "metadata": {
    "id": "67RBrvkUviuj"
   },
   "source": [
    "<a href=\"https://www.inove.com.ar\"><img src=\"https://raw.githubusercontent.com/InoveAlumnos/dataset_analytics_python/master/images/PA%20Banner.png\" width=\"1000\" align=\"center\"></a>\n",
    "\n",
    "\n",
    "# Ejercicio de clasificación con Logistic Regression\n",
    "\n",
    "Ejemplo de clasificación utilizando logistic regression para la clasificación de un dataset sintético y ver como este clasificador divide utilizando su hiper-plano<br>\n",
    "\n",
    "v1.1"
   ]
  },
  {
   "cell_type": "code",
   "execution_count": 1,
   "metadata": {
    "id": "y2sSeyEovSw-"
   },
   "outputs": [],
   "source": [
    "import os\n",
    "import platform\n",
    "\n",
    "import numpy as np\n",
    "import matplotlib.pyplot as plt\n",
    "import seaborn as sns\n",
    "import pandas as pd"
   ]
  },
  {
   "cell_type": "markdown",
   "metadata": {
    "id": "7Szo7P_3v00C"
   },
   "source": [
    "# Recolectar datos\n",
    "<img src=\"https://raw.githubusercontent.com/InoveAlumnos/dataset_analytics_python/master/images/Pipeline1.png\" width=\"1000\" align=\"middle\">"
   ]
  },
  {
   "cell_type": "code",
   "execution_count": 2,
   "metadata": {
    "colab": {
     "base_uri": "https://localhost:8080/"
    },
    "executionInfo": {
     "elapsed": 2485,
     "status": "ok",
     "timestamp": 1604257113950,
     "user": {
      "displayName": "inove",
      "photoUrl": "https://lh3.googleusercontent.com/a-/AOh14GhXN9lpkKFLA5gp8tW9cD3CZ1yGa9DUy9HZOgZm=s64",
      "userId": "03494171924251581304"
     },
     "user_tz": 180
    },
    "id": "HnVpNGuAvyFi",
    "outputId": "61a71269-acf5-44c0-d323-851194bd1827"
   },
   "outputs": [
    {
     "name": "stderr",
     "output_type": "stream",
     "text": [
      "  % Total    % Received % Xferd  Average Speed   Time    Time     Time  Current\n",
      "                                 Dload  Upload   Total   Spent    Left  Speed\n",
      "\n",
      "  0     0    0     0    0     0      0      0 --:--:-- --:--:-- --:--:--     0\n",
      "  0  7572    0     0    0     0      0      0 --:--:-- --:--:-- --:--:--     0\n",
      "100  7572  100  7572    0     0   7572      0  0:00:01 --:--:--  0:00:01 16144\n"
     ]
    }
   ],
   "source": [
    "if os.access('dataset_test_clf.csv', os.F_OK) is False:\n",
    "    if platform.system() == 'Windows':\n",
    "        !curl https://raw.githubusercontent.com/InoveAlumnos/dataset_analytics_python/master/dataset_test_clf.csv > dataset_test_clf.csv\n",
    "    else:\n",
    "        !wget dataset_test_clf.csv https://raw.githubusercontent.com/InoveAlumnos/dataset_analytics_python/master/dataset_test_clf.csv"
   ]
  },
  {
   "cell_type": "markdown",
   "metadata": {
    "id": "BbNSgxdfw0ix"
   },
   "source": [
    "### `dataset_test_clf.csv`:\n",
    "El dataset **`dataset_test_clf.csv`** es un dataset sintético generado para probar y comprar clasificadores que utilizan un hiper-plano para separar los datos<br>"
   ]
  },
  {
   "cell_type": "markdown",
   "metadata": {
    "id": "NHHsGe1Qypde"
   },
   "source": [
    "# Procesar datos\n",
    "<img src=\"https://raw.githubusercontent.com/InoveAlumnos/dataset_analytics_python/master/images/Pipeline2.png\" width=\"1000\" align=\"middle\">"
   ]
  },
  {
   "cell_type": "code",
   "execution_count": 3,
   "metadata": {
    "colab": {
     "base_uri": "https://localhost:8080/",
     "height": 348
    },
    "executionInfo": {
     "elapsed": 2097,
     "status": "ok",
     "timestamp": 1604257145207,
     "user": {
      "displayName": "inove",
      "photoUrl": "https://lh3.googleusercontent.com/a-/AOh14GhXN9lpkKFLA5gp8tW9cD3CZ1yGa9DUy9HZOgZm=s64",
      "userId": "03494171924251581304"
     },
     "user_tz": 180
    },
    "id": "uvzaKBMbyoiy",
    "outputId": "68b4971c-3121-422f-d926-c7f550d2761e"
   },
   "outputs": [
    {
     "data": {
      "text/html": [
       "<div>\n",
       "<style scoped>\n",
       "    .dataframe tbody tr th:only-of-type {\n",
       "        vertical-align: middle;\n",
       "    }\n",
       "\n",
       "    .dataframe tbody tr th {\n",
       "        vertical-align: top;\n",
       "    }\n",
       "\n",
       "    .dataframe thead th {\n",
       "        text-align: right;\n",
       "    }\n",
       "</style>\n",
       "<table border=\"1\" class=\"dataframe\">\n",
       "  <thead>\n",
       "    <tr style=\"text-align: right;\">\n",
       "      <th></th>\n",
       "      <th>x1</th>\n",
       "      <th>x2</th>\n",
       "      <th>y</th>\n",
       "    </tr>\n",
       "  </thead>\n",
       "  <tbody>\n",
       "    <tr>\n",
       "      <th>count</th>\n",
       "      <td>100.000000</td>\n",
       "      <td>100.000000</td>\n",
       "      <td>100.000000</td>\n",
       "    </tr>\n",
       "    <tr>\n",
       "      <th>mean</th>\n",
       "      <td>0.562576</td>\n",
       "      <td>0.248968</td>\n",
       "      <td>0.560000</td>\n",
       "    </tr>\n",
       "    <tr>\n",
       "      <th>std</th>\n",
       "      <td>0.848907</td>\n",
       "      <td>0.504196</td>\n",
       "      <td>0.498888</td>\n",
       "    </tr>\n",
       "    <tr>\n",
       "      <th>min</th>\n",
       "      <td>-1.163033</td>\n",
       "      <td>-1.024324</td>\n",
       "      <td>0.000000</td>\n",
       "    </tr>\n",
       "    <tr>\n",
       "      <th>25%</th>\n",
       "      <td>-0.012401</td>\n",
       "      <td>-0.156395</td>\n",
       "      <td>0.000000</td>\n",
       "    </tr>\n",
       "    <tr>\n",
       "      <th>50%</th>\n",
       "      <td>0.591460</td>\n",
       "      <td>0.300005</td>\n",
       "      <td>1.000000</td>\n",
       "    </tr>\n",
       "    <tr>\n",
       "      <th>75%</th>\n",
       "      <td>1.157193</td>\n",
       "      <td>0.642830</td>\n",
       "      <td>1.000000</td>\n",
       "    </tr>\n",
       "    <tr>\n",
       "      <th>max</th>\n",
       "      <td>2.162433</td>\n",
       "      <td>1.165881</td>\n",
       "      <td>1.000000</td>\n",
       "    </tr>\n",
       "    <tr>\n",
       "      <th>Nan</th>\n",
       "      <td>0.000000</td>\n",
       "      <td>0.000000</td>\n",
       "      <td>0.000000</td>\n",
       "    </tr>\n",
       "    <tr>\n",
       "      <th>%Nan</th>\n",
       "      <td>0.000000</td>\n",
       "      <td>0.000000</td>\n",
       "      <td>0.000000</td>\n",
       "    </tr>\n",
       "  </tbody>\n",
       "</table>\n",
       "</div>"
      ],
      "text/plain": [
       "               x1          x2           y\n",
       "count  100.000000  100.000000  100.000000\n",
       "mean     0.562576    0.248968    0.560000\n",
       "std      0.848907    0.504196    0.498888\n",
       "min     -1.163033   -1.024324    0.000000\n",
       "25%     -0.012401   -0.156395    0.000000\n",
       "50%      0.591460    0.300005    1.000000\n",
       "75%      1.157193    0.642830    1.000000\n",
       "max      2.162433    1.165881    1.000000\n",
       "Nan      0.000000    0.000000    0.000000\n",
       "%Nan     0.000000    0.000000    0.000000"
      ]
     },
     "execution_count": 3,
     "metadata": {},
     "output_type": "execute_result"
    }
   ],
   "source": [
    "df = pd.read_csv(\"dataset_test_clf.csv\")\n",
    "des = df.describe()\n",
    "des.loc['Nan'] = df.isna().sum()\n",
    "des.loc['%Nan'] = (df.isna().mean())*100\n",
    "des"
   ]
  },
  {
   "cell_type": "code",
   "execution_count": 4,
   "metadata": {
    "colab": {
     "base_uri": "https://localhost:8080/",
     "height": 198
    },
    "executionInfo": {
     "elapsed": 982,
     "status": "ok",
     "timestamp": 1604257150116,
     "user": {
      "displayName": "inove",
      "photoUrl": "https://lh3.googleusercontent.com/a-/AOh14GhXN9lpkKFLA5gp8tW9cD3CZ1yGa9DUy9HZOgZm=s64",
      "userId": "03494171924251581304"
     },
     "user_tz": 180
    },
    "id": "Cw9HbE88y3wu",
    "outputId": "59432805-9040-487c-efff-1c0bac6fc35f"
   },
   "outputs": [
    {
     "data": {
      "text/html": [
       "<div>\n",
       "<style scoped>\n",
       "    .dataframe tbody tr th:only-of-type {\n",
       "        vertical-align: middle;\n",
       "    }\n",
       "\n",
       "    .dataframe tbody tr th {\n",
       "        vertical-align: top;\n",
       "    }\n",
       "\n",
       "    .dataframe thead th {\n",
       "        text-align: right;\n",
       "    }\n",
       "</style>\n",
       "<table border=\"1\" class=\"dataframe\">\n",
       "  <thead>\n",
       "    <tr style=\"text-align: right;\">\n",
       "      <th></th>\n",
       "      <th>x1</th>\n",
       "      <th>x2</th>\n",
       "      <th>y</th>\n",
       "    </tr>\n",
       "  </thead>\n",
       "  <tbody>\n",
       "    <tr>\n",
       "      <th>0</th>\n",
       "      <td>0.211421</td>\n",
       "      <td>-0.097180</td>\n",
       "      <td>1.0</td>\n",
       "    </tr>\n",
       "    <tr>\n",
       "      <th>1</th>\n",
       "      <td>-0.266959</td>\n",
       "      <td>0.870837</td>\n",
       "      <td>0.0</td>\n",
       "    </tr>\n",
       "    <tr>\n",
       "      <th>2</th>\n",
       "      <td>0.972220</td>\n",
       "      <td>0.309585</td>\n",
       "      <td>0.0</td>\n",
       "    </tr>\n",
       "    <tr>\n",
       "      <th>3</th>\n",
       "      <td>0.974682</td>\n",
       "      <td>0.649651</td>\n",
       "      <td>0.0</td>\n",
       "    </tr>\n",
       "    <tr>\n",
       "      <th>4</th>\n",
       "      <td>0.585224</td>\n",
       "      <td>0.830778</td>\n",
       "      <td>0.0</td>\n",
       "    </tr>\n",
       "  </tbody>\n",
       "</table>\n",
       "</div>"
      ],
      "text/plain": [
       "         x1        x2    y\n",
       "0  0.211421 -0.097180  1.0\n",
       "1 -0.266959  0.870837  0.0\n",
       "2  0.972220  0.309585  0.0\n",
       "3  0.974682  0.649651  0.0\n",
       "4  0.585224  0.830778  0.0"
      ]
     },
     "execution_count": 4,
     "metadata": {},
     "output_type": "execute_result"
    }
   ],
   "source": [
    "df.head()"
   ]
  },
  {
   "cell_type": "code",
   "execution_count": 5,
   "metadata": {
    "colab": {
     "base_uri": "https://localhost:8080/"
    },
    "executionInfo": {
     "elapsed": 858,
     "status": "ok",
     "timestamp": 1604257151350,
     "user": {
      "displayName": "inove",
      "photoUrl": "https://lh3.googleusercontent.com/a-/AOh14GhXN9lpkKFLA5gp8tW9cD3CZ1yGa9DUy9HZOgZm=s64",
      "userId": "03494171924251581304"
     },
     "user_tz": 180
    },
    "id": "LirgXKpiy8dr",
    "outputId": "179bdbc4-bdbe-4605-8b8d-191ca26b536c"
   },
   "outputs": [
    {
     "name": "stdout",
     "output_type": "stream",
     "text": [
      "Cantidad de datos en observacion: 100\n"
     ]
    }
   ],
   "source": [
    "print('Cantidad de datos en observacion:', df.shape[0])"
   ]
  },
  {
   "cell_type": "markdown",
   "metadata": {
    "id": "0BnzYdlRzBxz"
   },
   "source": [
    "# Explorar datos\n",
    "<img src=\"https://raw.githubusercontent.com/InoveAlumnos/dataset_analytics_python/master/images/Pipeline3.png\" width=\"1000\" align=\"middle\">"
   ]
  },
  {
   "cell_type": "code",
   "execution_count": 6,
   "metadata": {
    "colab": {
     "base_uri": "https://localhost:8080/",
     "height": 297
    },
    "executionInfo": {
     "elapsed": 1094,
     "status": "ok",
     "timestamp": 1604257211522,
     "user": {
      "displayName": "inove",
      "photoUrl": "https://lh3.googleusercontent.com/a-/AOh14GhXN9lpkKFLA5gp8tW9cD3CZ1yGa9DUy9HZOgZm=s64",
      "userId": "03494171924251581304"
     },
     "user_tz": 180
    },
    "id": "yH6oDykAzBMG",
    "outputId": "25c22bb7-3357-4907-d133-5dda70db326d"
   },
   "outputs": [
    {
     "data": {
      "text/plain": [
       "<AxesSubplot:xlabel='x1', ylabel='x2'>"
      ]
     },
     "execution_count": 6,
     "metadata": {},
     "output_type": "execute_result"
    },
    {
     "data": {
      "image/png": "[encoded data removed]",
      "text/plain": [
       "<Figure size 432x288 with 1 Axes>"
      ]
     },
     "metadata": {
      "needs_background": "light"
     },
     "output_type": "display_data"
    }
   ],
   "source": [
    "# Exploramos la distribución del dataset\n",
    "sns.scatterplot(data=df, x=\"x1\", y=\"x2\", hue=\"y\")"
   ]
  },
  {
   "cell_type": "markdown",
   "metadata": {
    "id": "7z_SuZlj3gbQ"
   },
   "source": [
    "# Entrenar modelo\n",
    "<img src=\"https://raw.githubusercontent.com/InoveAlumnos/dataset_analytics_python/master/images/Pipeline4.png\" width=\"1000\" align=\"middle\">"
   ]
  },
  {
   "cell_type": "markdown",
   "metadata": {
    "id": "ntY84fHj3q5q"
   },
   "source": [
    "El primer paso es obtener los datos que serán la entrada del sistema (X) y los datos que serán la salida del modelo estimador (y)"
   ]
  },
  {
   "cell_type": "code",
   "execution_count": 7,
   "metadata": {
    "id": "EIg2_OQ43fqZ"
   },
   "outputs": [],
   "source": [
    "X = df.drop('y', axis=1).values\n",
    "y = df['y'].values"
   ]
  },
  {
   "cell_type": "markdown",
   "metadata": {
    "id": "sbr-SnON4LuM"
   },
   "source": [
    "Siguiente paso es dividir el dataset en entrenamiento (train) y evaluación (test). Utilizaremos el criterio 70%30%"
   ]
  },
  {
   "cell_type": "code",
   "execution_count": 8,
   "metadata": {
    "id": "BVD4YkjS4MW2"
   },
   "outputs": [],
   "source": [
    "from sklearn.model_selection import train_test_split\n",
    "# Fijamos un \"random_state\" constante para que siempre el dataset se parta de la misma forma\n",
    "# para poder repetir los ensayos\n",
    "X_train, X_test, y_train, y_test = train_test_split(X, y, test_size=0.3, random_state=42)"
   ]
  },
  {
   "cell_type": "markdown",
   "metadata": {
    "id": "wBh2fSnT4SED"
   },
   "source": [
    "#### Crear un modelo de clasificación con regresión logística\n",
    "Hiper-parámetros que suelen tenerse en cuenta durante el proceso de entrenamiento:\n",
    "- solver --> Algoritmo utilizado para iterar y encontrar el mejor modelo que resuelva la problemática. Por defecto (lbfgs)\n",
    "    - Recomendado lbfgs para datasets pequeños\n",
    "    - Recomendado sag para datasets grandes"
   ]
  },
  {
   "cell_type": "code",
   "execution_count": 9,
   "metadata": {
    "id": "ZRw2jgPl4Xuc"
   },
   "outputs": [],
   "source": [
    "from sklearn.linear_model import LogisticRegression\n",
    "clf = LogisticRegression()\n",
    "clf.fit(X_train, y_train)\n",
    "y_hat = clf.predict(X_test)"
   ]
  },
  {
   "cell_type": "markdown",
   "metadata": {
    "id": "w3IfjUuI4XnD"
   },
   "source": [
    "# Validar modelo\n",
    "<img src=\"https://raw.githubusercontent.com/InoveAlumnos/dataset_analytics_python/master/images/Pipeline5.png\" width=\"1000\" align=\"middle\">"
   ]
  },
  {
   "cell_type": "code",
   "execution_count": 10,
   "metadata": {
    "colab": {
     "base_uri": "https://localhost:8080/"
    },
    "executionInfo": {
     "elapsed": 964,
     "status": "ok",
     "timestamp": 1604257375433,
     "user": {
      "displayName": "inove",
      "photoUrl": "https://lh3.googleusercontent.com/a-/AOh14GhXN9lpkKFLA5gp8tW9cD3CZ1yGa9DUy9HZOgZm=s64",
      "userId": "03494171924251581304"
     },
     "user_tz": 180
    },
    "id": "CMKONtv55zL8",
    "outputId": "3c03f2ff-0cf8-4c3c-af78-0d3db814c822"
   },
   "outputs": [
    {
     "data": {
      "text/plain": [
       "0.9"
      ]
     },
     "execution_count": 10,
     "metadata": {},
     "output_type": "execute_result"
    }
   ],
   "source": [
    "# Calcular la exactitud (accuracy)\n",
    "from sklearn.metrics import accuracy_score\n",
    "accuracy_score(y_test, y_hat, normalize=True)"
   ]
  },
  {
   "cell_type": "code",
   "execution_count": 11,
   "metadata": {
    "colab": {
     "base_uri": "https://localhost:8080/",
     "height": 283
    },
    "executionInfo": {
     "elapsed": 954,
     "status": "ok",
     "timestamp": 1604257379510,
     "user": {
      "displayName": "inove",
      "photoUrl": "https://lh3.googleusercontent.com/a-/AOh14GhXN9lpkKFLA5gp8tW9cD3CZ1yGa9DUy9HZOgZm=s64",
      "userId": "03494171924251581304"
     },
     "user_tz": 180
    },
    "id": "TeLeYLYz6ZhO",
    "outputId": "6dda85ec-5002-4fa8-d3b5-d014bdc4fcaf"
   },
   "outputs": [
    {
     "data": {
      "image/png": "[encoded data removed]",
      "text/plain": [
       "<Figure size 432x288 with 2 Axes>"
      ]
     },
     "metadata": {
      "needs_background": "light"
     },
     "output_type": "display_data"
    }
   ],
   "source": [
    "from sklearn.metrics import confusion_matrix, ConfusionMatrixDisplay\n",
    "cm = confusion_matrix(y_test, y_hat)\n",
    "cmd = ConfusionMatrixDisplay(cm, display_labels=clf.classes_)\n",
    "cmd.plot(cmap=plt.cm.Blues)\n",
    "plt.show()"
   ]
  },
  {
   "cell_type": "markdown",
   "metadata": {
    "id": "9dZxGbjG96jR"
   },
   "source": [
    "# Utilizar modelo\n",
    "<img src=\"https://raw.githubusercontent.com/InoveAlumnos/dataset_analytics_python/master/images/Pipeline6.png\" width=\"1000\" align=\"middle\">"
   ]
  },
  {
   "cell_type": "code",
   "execution_count": 12,
   "metadata": {
    "id": "X4xR9VGENSY4"
   },
   "outputs": [],
   "source": [
    "def plot_decision_regions(X, y, clf):\n",
    "    # Plotting decision regions\n",
    "    x_min, x_max = X[:, 0].min() - 1, X[:, 0].max() + 1\n",
    "    y_min, y_max = X[:, 1].min() - 1, X[:, 1].max() + 1\n",
    "    xx, yy = np.meshgrid(np.arange(x_min, x_max, 0.1),\n",
    "                        np.arange(y_min, y_max, 0.1))\n",
    "\n",
    "    fig = plt.figure()\n",
    "    ax = fig.add_subplot()\n",
    "\n",
    "    Z = clf.predict(np.c_[xx.ravel(), yy.ravel()])\n",
    "    Z = Z.reshape(xx.shape)\n",
    "\n",
    "    ax.contourf(xx, yy, Z, alpha=0.4)\n",
    "    ax.scatter(X[:, 0], X[:, 1], c=y, s=20, edgecolor='k')\n",
    "\n",
    "    plt.show()"
   ]
  },
  {
   "cell_type": "code",
   "execution_count": 13,
   "metadata": {
    "colab": {
     "base_uri": "https://localhost:8080/",
     "height": 265
    },
    "executionInfo": {
     "elapsed": 1088,
     "status": "ok",
     "timestamp": 1604257839961,
     "user": {
      "displayName": "inove",
      "photoUrl": "https://lh3.googleusercontent.com/a-/AOh14GhXN9lpkKFLA5gp8tW9cD3CZ1yGa9DUy9HZOgZm=s64",
      "userId": "03494171924251581304"
     },
     "user_tz": 180
    },
    "id": "sMTm-PpAN1-q",
    "outputId": "1ce4f6d8-22ed-42db-9a58-7abfcb0bc52a"
   },
   "outputs": [
    {
     "data": {
      "image/png": "[encoded data removed]",
      "text/plain": [
       "<Figure size 432x288 with 1 Axes>"
      ]
     },
     "metadata": {
      "needs_background": "light"
     },
     "output_type": "display_data"
    }
   ],
   "source": [
    "plot_decision_regions(X, y, clf)"
   ]
  },
  {
   "cell_type": "markdown",
   "metadata": {
    "id": "h7yzVZcZ9-4m"
   },
   "source": [
    "# Conclusión\n",
    "<img src=\"https://raw.githubusercontent.com/InoveAlumnos/dataset_analytics_python/master/images/Pipeline7.png\" width=\"1000\" align=\"middle\">"
   ]
  },
  {
   "cell_type": "markdown",
   "metadata": {
    "id": "sWAReOgo-B7b"
   },
   "source": [
    "Se puede observar que la regresión logística separa en 2D con una recta y algunos casos fueron más clasificados. Se puede mejorar utilizando otro clasificador"
   ]
  },
  {
   "cell_type": "code",
   "execution_count": null,
   "metadata": {},
   "outputs": [],
   "source": []
  }
 ],
 "metadata": {
  "colab": {
   "authorship_tag": "ABX9TyP8/0okEeA3PThlC9/zt2al",
   "collapsed_sections": [],
   "name": "3_logistic_regression.ipynb",
   "provenance": [],
   "toc_visible": true
  },
  "kernelspec": {
   "display_name": "Python 3",
   "language": "python",
   "name": "python3"
  },
  "language_info": {
   "codemirror_mode": {
    "name": "ipython",
    "version": 3
   },
   "file_extension": ".py",
   "mimetype": "text/x-python",
   "name": "python",
   "nbconvert_exporter": "python",
   "pygments_lexer": "ipython3",
   "version": "3.9.4"
  }
 },
 "nbformat": 4,
 "nbformat_minor": 4
}
